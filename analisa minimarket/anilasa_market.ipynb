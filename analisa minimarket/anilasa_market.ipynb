{
 "cells": [
  {
   "cell_type": "markdown",
   "metadata": {},
   "source": [
    "# analisa data penjualan di minimarket jaya sumber(fake dataset)"
   ]
  },
  {
   "cell_type": "code",
   "execution_count": 6,
   "metadata": {},
   "outputs": [],
   "source": [
    "import pandas as pd\n"
   ]
  },
  {
   "cell_type": "code",
   "execution_count": 8,
   "metadata": {},
   "outputs": [
    {
     "data": {
      "text/html": [
       "<div>\n",
       "<style scoped>\n",
       "    .dataframe tbody tr th:only-of-type {\n",
       "        vertical-align: middle;\n",
       "    }\n",
       "\n",
       "    .dataframe tbody tr th {\n",
       "        vertical-align: top;\n",
       "    }\n",
       "\n",
       "    .dataframe thead th {\n",
       "        text-align: right;\n",
       "    }\n",
       "</style>\n",
       "<table border=\"1\" class=\"dataframe\">\n",
       "  <thead>\n",
       "    <tr style=\"text-align: right;\">\n",
       "      <th></th>\n",
       "      <th>Invoice ID;Branch;City;Customer type;Gender;Product line;Unit price;Quantity;Tax 5%;Total;Date;New_Date;Time;Payment;cogs;gross margin percentage;gross income;Rating</th>\n",
       "    </tr>\n",
       "  </thead>\n",
       "  <tbody>\n",
       "    <tr>\n",
       "      <th>0</th>\n",
       "      <td>750-67-8428;A;Yangon;Member;Female;Health and ...</td>\n",
       "    </tr>\n",
       "    <tr>\n",
       "      <th>1</th>\n",
       "      <td>226-31-3081;C;Naypyitaw;Normal;Female;Electron...</td>\n",
       "    </tr>\n",
       "    <tr>\n",
       "      <th>2</th>\n",
       "      <td>631-41-3108;A;Yangon;Normal;Male;Home and life...</td>\n",
       "    </tr>\n",
       "    <tr>\n",
       "      <th>3</th>\n",
       "      <td>123-19-1176;A;Yangon;Member;Male;Health and be...</td>\n",
       "    </tr>\n",
       "    <tr>\n",
       "      <th>4</th>\n",
       "      <td>373-73-7910;A;Yangon;Normal;Male;Sports and tr...</td>\n",
       "    </tr>\n",
       "    <tr>\n",
       "      <th>...</th>\n",
       "      <td>...</td>\n",
       "    </tr>\n",
       "    <tr>\n",
       "      <th>995</th>\n",
       "      <td>233-67-5758;C;Naypyitaw;Normal;Male;Health and...</td>\n",
       "    </tr>\n",
       "    <tr>\n",
       "      <th>996</th>\n",
       "      <td>303-96-2227;B;Mandalay;Normal;Female;Home and ...</td>\n",
       "    </tr>\n",
       "    <tr>\n",
       "      <th>997</th>\n",
       "      <td>727-02-1313;A;Yangon;Member;Male;Food and beve...</td>\n",
       "    </tr>\n",
       "    <tr>\n",
       "      <th>998</th>\n",
       "      <td>347-56-2442;A;Yangon;Normal;Male;Home and life...</td>\n",
       "    </tr>\n",
       "    <tr>\n",
       "      <th>999</th>\n",
       "      <td>849-09-3807;A;Yangon;Member;Female;Fashion acc...</td>\n",
       "    </tr>\n",
       "  </tbody>\n",
       "</table>\n",
       "<p>1000 rows × 1 columns</p>\n",
       "</div>"
      ],
      "text/plain": [
       "    Invoice ID;Branch;City;Customer type;Gender;Product line;Unit price;Quantity;Tax 5%;Total;Date;New_Date;Time;Payment;cogs;gross margin percentage;gross income;Rating\n",
       "0    750-67-8428;A;Yangon;Member;Female;Health and ...                                                                                                                   \n",
       "1    226-31-3081;C;Naypyitaw;Normal;Female;Electron...                                                                                                                   \n",
       "2    631-41-3108;A;Yangon;Normal;Male;Home and life...                                                                                                                   \n",
       "3    123-19-1176;A;Yangon;Member;Male;Health and be...                                                                                                                   \n",
       "4    373-73-7910;A;Yangon;Normal;Male;Sports and tr...                                                                                                                   \n",
       "..                                                 ...                                                                                                                   \n",
       "995  233-67-5758;C;Naypyitaw;Normal;Male;Health and...                                                                                                                   \n",
       "996  303-96-2227;B;Mandalay;Normal;Female;Home and ...                                                                                                                   \n",
       "997  727-02-1313;A;Yangon;Member;Male;Food and beve...                                                                                                                   \n",
       "998  347-56-2442;A;Yangon;Normal;Male;Home and life...                                                                                                                   \n",
       "999  849-09-3807;A;Yangon;Member;Female;Fashion acc...                                                                                                                   \n",
       "\n",
       "[1000 rows x 1 columns]"
      ]
     },
     "execution_count": 8,
     "metadata": {},
     "output_type": "execute_result"
    }
   ],
   "source": [
    "data = pd.read_csv(\"supermarket_sales.csv\")\n",
    "data"
   ]
  }
 ],
 "metadata": {
  "kernelspec": {
   "display_name": "Python 3",
   "language": "python",
   "name": "python3"
  },
  "language_info": {
   "codemirror_mode": {
    "name": "ipython",
    "version": 3
   },
   "file_extension": ".py",
   "mimetype": "text/x-python",
   "name": "python",
   "nbconvert_exporter": "python",
   "pygments_lexer": "ipython3",
   "version": "3.12.1"
  }
 },
 "nbformat": 4,
 "nbformat_minor": 2
}
